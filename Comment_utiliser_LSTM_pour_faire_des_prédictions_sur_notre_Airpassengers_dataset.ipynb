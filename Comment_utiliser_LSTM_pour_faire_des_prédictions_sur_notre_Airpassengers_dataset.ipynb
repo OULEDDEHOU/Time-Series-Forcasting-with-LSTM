{
  "nbformat": 4,
  "nbformat_minor": 0,
  "metadata": {
    "colab": {
      "private_outputs": true,
      "provenance": [],
      "authorship_tag": "ABX9TyOzPzHOPkkqz+a2lvjKpWzN",
      "include_colab_link": true
    },
    "kernelspec": {
      "name": "python3",
      "display_name": "Python 3"
    },
    "language_info": {
      "name": "python"
    },
    "accelerator": "GPU",
    "gpuClass": "standard"
  },
  "cells": [
    {
      "cell_type": "markdown",
      "metadata": {
        "id": "view-in-github",
        "colab_type": "text"
      },
      "source": [
        "<a href=\"https://colab.research.google.com/github/OULEDDEHOU/Time-Series-Forcasting-with-LSTM/blob/main/Comment_utiliser_LSTM_pour_faire_des_pr%C3%A9dictions_sur_notre_Airpassengers_dataset.ipynb\" target=\"_parent\"><img src=\"https://colab.research.google.com/assets/colab-badge.svg\" alt=\"Open In Colab\"/></a>"
      ]
    },
    {
      "cell_type": "code",
      "execution_count": null,
      "metadata": {
        "id": "1n30YumqWZQd"
      },
      "outputs": [],
      "source": [
        "import numpy as np\n",
        "import matplotlib.pyplot as plt\n",
        "import pandas as pd\n",
        "import math\n",
        "from keras.models import Sequential\n",
        "from keras.layers import Dense\n",
        "from keras.layers import LSTM\n",
        "from sklearn.preprocessing import MinMaxScaler\n",
        "from sklearn.metrics import mean_squared_error"
      ]
    },
    {
      "cell_type": "code",
      "source": [
        "from  google.colab import files\n",
        "import io"
      ],
      "metadata": {
        "id": "apEId-1wW_MB"
      },
      "execution_count": null,
      "outputs": []
    },
    {
      "cell_type": "code",
      "source": [
        "uploaded = files.upload()"
      ],
      "metadata": {
        "id": "SMOUKycLXHol"
      },
      "execution_count": null,
      "outputs": []
    },
    {
      "cell_type": "code",
      "source": [
        "data = pd.read_csv(io.BytesIO(uploaded['AirPassengers.csv']),usecols=[1]) "
      ],
      "metadata": {
        "id": "sMPRMPZKZEPm"
      },
      "execution_count": null,
      "outputs": []
    },
    {
      "cell_type": "code",
      "source": [
        "data.head(10)"
      ],
      "metadata": {
        "id": "iC3hPzzNZ7QP"
      },
      "execution_count": null,
      "outputs": []
    },
    {
      "cell_type": "code",
      "source": [
        "plt.plot(data,c=\"r\")"
      ],
      "metadata": {
        "id": "cU0XEAl_Z-V7"
      },
      "execution_count": null,
      "outputs": []
    },
    {
      "cell_type": "code",
      "source": [
        "dataset = data.values\n",
        "dataset = dataset.astype('float32')"
      ],
      "metadata": {
        "id": "5llW-lICaH5y"
      },
      "execution_count": null,
      "outputs": []
    },
    {
      "cell_type": "code",
      "source": [
        "scaler = MinMaxScaler(feature_range=(0, 1)) \n",
        "dataset = scaler.fit_transform(dataset)"
      ],
      "metadata": {
        "id": "Kzmf2FbPaoN6"
      },
      "execution_count": null,
      "outputs": []
    },
    {
      "cell_type": "code",
      "source": [
        "train_size = int(len(dataset) * 0.66)"
      ],
      "metadata": {
        "id": "t0tGlwoja1ZY"
      },
      "execution_count": null,
      "outputs": []
    },
    {
      "cell_type": "code",
      "source": [
        "train, test = dataset[:train_size], dataset[train_size:]"
      ],
      "metadata": {
        "id": "z2iKhzO_a8cv"
      },
      "execution_count": null,
      "outputs": []
    },
    {
      "cell_type": "code",
      "source": [
        "train.shape"
      ],
      "metadata": {
        "id": "2ARMNiewbGXE"
      },
      "execution_count": null,
      "outputs": []
    },
    {
      "cell_type": "code",
      "source": [
        "test.shape"
      ],
      "metadata": {
        "id": "FE328ERAbIkm"
      },
      "execution_count": null,
      "outputs": []
    },
    {
      "cell_type": "code",
      "source": [
        "#creates a dataset where X is the number of passengers at a given time (t, t-1, t-2...) \n",
        "#and Y is the number of passengers at the next time (t + 1)\n",
        "def to_sequences(dataset, seq_size=1):\n",
        "    x = []\n",
        "    y = []\n",
        "\n",
        "    for i in range(len(dataset)-seq_size-1):\n",
        "        #print(i)\n",
        "        window = dataset[i:(i+seq_size), 0]\n",
        "        x.append(window)\n",
        "        y.append(dataset[i+seq_size, 0])\n",
        "        \n",
        "    return np.array(x),np.array(y)\n",
        "    "
      ],
      "metadata": {
        "id": "9z6P4iCObVrs"
      },
      "execution_count": null,
      "outputs": []
    },
    {
      "cell_type": "code",
      "source": [
        "seq_size = 15"
      ],
      "metadata": {
        "id": "vsqQbnVWcTXk"
      },
      "execution_count": null,
      "outputs": []
    },
    {
      "cell_type": "code",
      "source": [
        "trainX, trainY = to_sequences(train, seq_size)\n",
        "testX, testY = to_sequences(test, seq_size)"
      ],
      "metadata": {
        "id": "bXjHc5qjcjqi"
      },
      "execution_count": null,
      "outputs": []
    },
    {
      "cell_type": "code",
      "source": [
        "trainX = np.reshape(trainX, (trainX.shape[0], 1, trainX.shape[1]))\n",
        "testX = np.reshape(testX, (testX.shape[0], 1, testX.shape[1]))\n",
        "model = Sequential()\n",
        "model.add(LSTM(50, activation='relu', return_sequences=True, input_shape=(None, seq_size)))\n",
        "model.add(LSTM(50, activation='relu'))\n",
        "model.add(Dense(32))\n",
        "model.add(Dense(1))\n",
        "model.compile(optimizer='adam', loss='mean_squared_error')\n",
        "model.summary()"
      ],
      "metadata": {
        "id": "rXlfRlMfcnAq"
      },
      "execution_count": null,
      "outputs": []
    },
    {
      "cell_type": "code",
      "source": [
        "model.fit(trainX, trainY, validation_data=(testX, testY),\n",
        "          verbose=2, epochs=100)"
      ],
      "metadata": {
        "id": "R7UG6M9DpnJH"
      },
      "execution_count": null,
      "outputs": []
    },
    {
      "cell_type": "code",
      "source": [
        "trainPredict = model.predict(trainX)\n",
        "testPredict = model.predict(testX)"
      ],
      "metadata": {
        "id": "dStks6xhpwXN"
      },
      "execution_count": null,
      "outputs": []
    },
    {
      "cell_type": "code",
      "source": [
        "trainPredict = scaler.inverse_transform(trainPredict)\n",
        "trainY = scaler.inverse_transform([trainY])\n",
        "testPredict = scaler.inverse_transform(testPredict)\n",
        "testY = scaler.inverse_transform([testY])"
      ],
      "metadata": {
        "id": "x63BXFmZp3ZS"
      },
      "execution_count": null,
      "outputs": []
    },
    {
      "cell_type": "code",
      "source": [
        "trainScore = math.sqrt(mean_squared_error(trainY[0], trainPredict[:,0]))\n",
        "print('Train Score: %.2f RMSE' % (trainScore))\n",
        "\n",
        "testScore = math.sqrt(mean_squared_error(testY[0], testPredict[:,0]))\n",
        "print('Test Score: %.2f RMSE' % (testScore))"
      ],
      "metadata": {
        "id": "IRGsnxenp7g1"
      },
      "execution_count": null,
      "outputs": []
    },
    {
      "cell_type": "code",
      "source": [
        "trainPredictPlot = np.empty_like(dataset)\n",
        "trainPredictPlot[:, :] = np.nan\n",
        "trainPredictPlot[seq_size:len(trainPredict)+seq_size, :] = trainPredict"
      ],
      "metadata": {
        "id": "FK5kpImUp-pX"
      },
      "execution_count": null,
      "outputs": []
    },
    {
      "cell_type": "code",
      "source": [
        "testPredictPlot = np.empty_like(dataset)\n",
        "testPredictPlot[:, :] = np.nan\n",
        "testPredictPlot[len(trainPredict)+(seq_size*2)+1:len(dataset)-1, :] = testPredict"
      ],
      "metadata": {
        "id": "RSTU1k3-qC9J"
      },
      "execution_count": null,
      "outputs": []
    },
    {
      "cell_type": "code",
      "source": [
        "plt.plot(scaler.inverse_transform(dataset))\n",
        "plt.plot(trainPredictPlot)\n",
        "plt.plot(testPredictPlot)\n",
        "plt.show()"
      ],
      "metadata": {
        "id": "wp2h1cPzqF3s"
      },
      "execution_count": null,
      "outputs": []
    },
    {
      "cell_type": "code",
      "source": [],
      "metadata": {
        "id": "4CBrjVuWqI5E"
      },
      "execution_count": null,
      "outputs": []
    }
  ]
}